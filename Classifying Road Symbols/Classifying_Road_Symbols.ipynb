{
  "nbformat": 4,
  "nbformat_minor": 0,
  "metadata": {
    "colab": {
      "name": "Classifying Road Symbols.ipynb",
      "provenance": [],
      "collapsed_sections": [],
      "authorship_tag": "ABX9TyPKzYINGhFKcBSj9f/LQU+Z",
      "include_colab_link": true
    },
    "kernelspec": {
      "name": "python3",
      "display_name": "Python 3"
    },
    "language_info": {
      "name": "python"
    }
  },
  "cells": [
    {
      "cell_type": "markdown",
      "metadata": {
        "id": "view-in-github",
        "colab_type": "text"
      },
      "source": [
        "<a href=\"https://colab.research.google.com/github/Beytullah-1001/Computer-Vision-For-Self-Driving-Cars/blob/main/Classifying%20Road%20Symbols/Classifying_Road_Symbols.ipynb\" target=\"_parent\"><img src=\"https://colab.research.google.com/assets/colab-badge.svg\" alt=\"Open In Colab\"/></a>"
      ]
    },
    {
      "cell_type": "code",
      "execution_count": null,
      "metadata": {
        "id": "-0Sh_g2anwRm"
      },
      "outputs": [],
      "source": [
        ""
      ]
    },
    {
      "cell_type": "code",
      "source": [
        "import numpy as np\n",
        "import matplotlib.pyplot as plt\n",
        "import keras\n",
        "from keras.models import Sequential\n",
        "from keras.layers import Dense\n",
        "from keras.utils.np_utils import to_categorical\n",
        "from tensorflow.keras.optimizers import Adam\n",
        "from keras.layers import Dropout, Flatten\n",
        "from keras.layers.convolutional import Conv2D, MaxPooling2D\n",
        "import pickle\n",
        "import pandas as pd\n",
        "import random \n",
        "np.random.seed(0)"
      ],
      "metadata": {
        "id": "DR2GSuG7I66B"
      },
      "execution_count": null,
      "outputs": []
    },
    {
      "cell_type": "code",
      "source": [
        "!git clone https://bitbucket.org/jadslim/german-traffic-signs"
      ],
      "metadata": {
        "id": "ttVP0UhzqHtM"
      },
      "execution_count": null,
      "outputs": []
    },
    {
      "cell_type": "code",
      "source": [
        "!ls german-traffic-signs"
      ],
      "metadata": {
        "id": "agwbxm10qaRp"
      },
      "execution_count": null,
      "outputs": []
    },
    {
      "cell_type": "code",
      "source": [
        "!pip install keras\n"
      ],
      "metadata": {
        "id": "9Ku_aHSDoRcQ"
      },
      "execution_count": null,
      "outputs": []
    },
    {
      "cell_type": "code",
      "source": [
        "with open('german-traffic-signs/train.p','rb') as f:\n",
        "  train_data=pickle.load(f)\n",
        "with open('german-traffic-signs/valid.p','rb') as f:\n",
        "  valid_data=pickle.load(f)\n",
        "with open('german-traffic-signs/test.p','rb') as f:\n",
        "  test_data=pickle.load(f)"
      ],
      "metadata": {
        "id": "7z11b1jVqYmB"
      },
      "execution_count": null,
      "outputs": []
    },
    {
      "cell_type": "code",
      "source": [
        "print(type(train_data))\n",
        "X_train,y_train=train_data[\"features\"],train_data[\"labels\"]\n",
        "X_val,y_val=valid_data[\"features\"],valid_data[\"labels\"]\n",
        "X_test,y_test=test_data[\"features\"],test_data[\"labels\"]"
      ],
      "metadata": {
        "id": "w4vkYnTsqYoh"
      },
      "execution_count": null,
      "outputs": []
    },
    {
      "cell_type": "code",
      "source": [
        "print(X_train.shape)\n",
        "print(X_val.shape)\n",
        "print(X_test.shape)"
      ],
      "metadata": {
        "id": "qyaVfG2mslpw"
      },
      "execution_count": null,
      "outputs": []
    },
    {
      "cell_type": "code",
      "source": [
        "assert(X_train.shape[0]==y_train.shape[0]), \"The number of images is not equal to the number of labels\"\n",
        "assert(X_val.shape[0]==y_val.shape[0]),\"The number of images is not equal to the number of labels\"\n",
        "assert(X_test.shape[0]==y_test.shape[0]),\"The number of images is not equal to the number of labels\"\n",
        "assert(X_train.shape[1:]==(32,32,3)),\"The dimensions of the images are not 32x32x3\"\n",
        "assert(X_val.shape[1:]==(32,32,3)),\"The dimensions of the images are not 32x32x3\"\n",
        "assert(X_test.shape[1:]==(32,32,3)),\"The dimensions of the images are not 32x32x3\"\n"
      ],
      "metadata": {
        "id": "gUSkVZPptCcg"
      },
      "execution_count": null,
      "outputs": []
    },
    {
      "cell_type": "code",
      "source": [
        "data=pd.read_csv('german-traffic-signs/signnames.csv')\n",
        "data"
      ],
      "metadata": {
        "id": "vZ9KjM0lteVV"
      },
      "execution_count": null,
      "outputs": []
    },
    {
      "cell_type": "code",
      "source": [
        "num_of_samples=[]\n",
        "\n",
        "\n",
        "cols=5\n",
        "num_classes=43\n",
        "\n",
        "fig,axs=plt.subplots(nrows=num_classes,ncols=cols,figsize=(5,50))\n",
        "fig.tight_layout()\n",
        "\n",
        "for i in range(cols):\n",
        "  for j,row in data.iterrows():\n",
        "    x_selected=X_train[y_train==j]\n",
        "    axs[j][i].imshow(x_selected[random.randint(0,len(x_selected)-1),:,:],cmap=plt.get_cmap('gray'))\n",
        "    axs[j][i].axis(\"off\")\n",
        "    if i==2:\n",
        "      axs[j][i].set_title(str(j)+\"-\"+row[\"SignName\"])\n",
        "      num_of_samples.append(len(x_selected))"
      ],
      "metadata": {
        "id": "q-wveZ0cy7oa"
      },
      "execution_count": null,
      "outputs": []
    },
    {
      "cell_type": "code",
      "source": [
        "print(num_of_samples)\n",
        "plt.figure(figsize=(12,4))\n",
        "plt.bar(range(0,num_classes),num_of_samples)\n",
        "plt.title(\"Distrubution of the train set\")\n",
        "plt.xlabel(\"Class number\")\n",
        "plt.ylabel(\"Number of images\")\n",
        "plt.show()\n",
        "\n"
      ],
      "metadata": {
        "id": "fkAKhoMQ2rZB"
      },
      "execution_count": null,
      "outputs": []
    },
    {
      "cell_type": "code",
      "source": [
        "plt.imshow(X_train[1000])\n",
        "print(X_train[1000].shape)\n"
      ],
      "metadata": {
        "id": "NR3TLkXAASy-"
      },
      "execution_count": null,
      "outputs": []
    },
    {
      "cell_type": "code",
      "source": [
        "import cv2"
      ],
      "metadata": {
        "id": "XCTB6cqYAzpD"
      },
      "execution_count": null,
      "outputs": []
    },
    {
      "cell_type": "code",
      "source": [
        "def cvrt_grayscale(img):\n",
        "  img=cv2.cvtColor(img,cv2.COLOR_RGB2GRAY)\n",
        "  return img\n",
        "\n",
        "img=cvrt_grayscale(X_train[1000])\n",
        "print(img.shape)\n",
        "plt.imshow(img);\n",
        "plt.axis(\"off\")\n"
      ],
      "metadata": {
        "id": "97TIcfUwzKEI"
      },
      "execution_count": null,
      "outputs": []
    },
    {
      "cell_type": "code",
      "source": [
        "def equalize(img):\n",
        "  img=cv2.equalizeHist(img)\n",
        "  return img\n",
        "img=equalize(img)\n",
        "plt.imshow(img)"
      ],
      "metadata": {
        "id": "39YV37XCBDGA"
      },
      "execution_count": null,
      "outputs": []
    },
    {
      "cell_type": "code",
      "source": [
        "def preprocessing(img):\n",
        "  grayscale_image=cvrt_grayscale(img)\n",
        "  equalized_image=equalize(grayscale_image)\n",
        "  normalized_image=equalized_image/255\n",
        "  return equalized_image"
      ],
      "metadata": {
        "id": "sojkapxJBtTI"
      },
      "execution_count": null,
      "outputs": []
    },
    {
      "cell_type": "code",
      "source": [
        "X_train=np.array(list(map(preprocessing,X_train)))\n",
        "X_val=np.array(list(map(preprocessing,X_val)))\n",
        "X_test=np.array(list(map(preprocessing,X_test)))"
      ],
      "metadata": {
        "id": "Zutz8V_0CPk7"
      },
      "execution_count": null,
      "outputs": []
    },
    {
      "cell_type": "code",
      "source": [
        "plt.imshow(X_train[random.randint(0,len(X_train)-1)])\n",
        "print(X_train.shape)"
      ],
      "metadata": {
        "id": "9GJa-wpHC4du"
      },
      "execution_count": null,
      "outputs": []
    },
    {
      "cell_type": "code",
      "source": [
        "print(X_train.shape)\n",
        "print(X_val.shape)\n",
        "print(X_test.shape)"
      ],
      "metadata": {
        "id": "3GxCcocfDWMc"
      },
      "execution_count": null,
      "outputs": []
    },
    {
      "cell_type": "code",
      "source": [
        "y_train=to_categorical(y_train,43)\n",
        "y_val=to_categorical(y_val,43)\n",
        "y_test=to_categorical(y_test,43)"
      ],
      "metadata": {
        "id": "7GlyH2USDrAI"
      },
      "execution_count": null,
      "outputs": []
    },
    {
      "cell_type": "markdown",
      "source": [
        "## Lenet Implementation"
      ],
      "metadata": {
        "id": "U2wNHwAzH6zp"
      }
    },
    {
      "cell_type": "code",
      "source": [
        "def modified_model():\n",
        "  model = Sequential()\n",
        "  model.add(Conv2D(60, (5, 5), input_shape=(32, 32, 1), activation='relu'))\n",
        "  model.add(Conv2D(60, (5, 5), activation='relu'))\n",
        "  model.add(MaxPooling2D(pool_size=(2, 2)))\n",
        "\n",
        "  model.add(Conv2D(30, (3, 3), activation='relu'))\n",
        "  model.add(Conv2D(30, (3, 3), activation='relu'))\n",
        "  model.add(MaxPooling2D(pool_size=(2, 2)))\n",
        "\n",
        "  model.add(Flatten())\n",
        "  model.add(Dense(500, activation='relu'))\n",
        "  model.add(Dropout(0.5))\n",
        "  model.add(Dense(43, activation='softmax'))\n",
        "\n",
        "  model.compile(Adam(lr = 0.001), loss='categorical_crossentropy', metrics=['accuracy'])\n",
        "  return model"
      ],
      "metadata": {
        "id": "fRNKj_977lHU"
      },
      "execution_count": null,
      "outputs": []
    },
    {
      "cell_type": "code",
      "source": [
        "model = modified_model()\n",
        "print(model.summary())\n"
      ],
      "metadata": {
        "id": "hgwDuogO-5g1"
      },
      "execution_count": null,
      "outputs": []
    },
    {
      "cell_type": "code",
      "source": [
        "history=model.fit(X_train,y_train,epochs=10,batch_size=400,verbose=1,shuffle=1,validation_data=(X_val,y_val))"
      ],
      "metadata": {
        "colab": {
          "base_uri": "https://localhost:8080/"
        },
        "id": "ILhp427s_m16",
        "outputId": "6e2995b3-092f-4122-dfa0-436a6aa30f9a"
      },
      "execution_count": null,
      "outputs": [
        {
          "output_type": "stream",
          "name": "stdout",
          "text": [
            "Epoch 1/10\n",
            "87/87 [==============================] - 230s 3s/step - loss: 3.1171 - accuracy: 0.3311 - val_loss: 0.8581 - val_accuracy: 0.7707\n",
            "Epoch 2/10\n",
            "87/87 [==============================] - 228s 3s/step - loss: 0.6500 - accuracy: 0.8073 - val_loss: 0.3244 - val_accuracy: 0.9088\n",
            "Epoch 3/10\n",
            "65/87 [=====================>........] - ETA: 55s - loss: 0.3474 - accuracy: 0.8954"
          ]
        }
      ]
    },
    {
      "cell_type": "code",
      "source": [
        "plt.plot(history.history[\"loss\"])\n",
        "plt.plot(history.history[\"val_loss\"])\n",
        "plt.legend(['training','validation'])\n",
        "plt.xlabel(\" Epoch\")\n",
        "plt.ylabel(\"Loss\")"
      ],
      "metadata": {
        "id": "-0ZQY4psEhgR"
      },
      "execution_count": null,
      "outputs": []
    },
    {
      "cell_type": "code",
      "source": [
        "plt.plot(history.history['accuracy'])\n",
        "plt.plot(history.history[\"val_accuracy\"])\n",
        "plt.legend(['training','validation'])\n",
        "plt.xlabel(\" Epoch\")\n",
        "plt.ylabel(\"Loss\")"
      ],
      "metadata": {
        "id": "Oycx8uAeGldF"
      },
      "execution_count": null,
      "outputs": []
    }
  ]
}